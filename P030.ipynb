{
 "cells": [
  {
   "cell_type": "code",
   "execution_count": 1,
   "metadata": {
    "collapsed": true
   },
   "outputs": [],
   "source": [
    "from sklearn import datasets\n",
    "iris = datasets.load_iris()\n",
    "data = iris.data\n",
    "labels = iris.target"
   ]
  },
  {
   "cell_type": "code",
   "execution_count": 2,
   "metadata": {
    "collapsed": true
   },
   "outputs": [],
   "source": [
    "from sklearn.neural_network.multilayer_perceptron import MLPClassifier"
   ]
  },
  {
   "cell_type": "code",
   "execution_count": 3,
   "metadata": {
    "collapsed": false
   },
   "outputs": [
    {
     "name": "stderr",
     "output_type": "stream",
     "text": [
      "/Users/chen/anaconda/lib/python3.5/site-packages/sklearn/neural_network/multilayer_perceptron.py:564: ConvergenceWarning: Stochastic Optimizer: Maximum iterations (200) reached and the optimization hasn't converged yet.\n",
      "  % self.max_iter, ConvergenceWarning)\n"
     ]
    },
    {
     "data": {
      "text/plain": [
       "MLPClassifier(activation='relu', alpha=0.0001, batch_size='auto', beta_1=0.9,\n",
       "       beta_2=0.999, early_stopping=False, epsilon=1e-08,\n",
       "       hidden_layer_sizes=(100,), learning_rate='constant',\n",
       "       learning_rate_init=0.001, max_iter=200, momentum=0.9,\n",
       "       nesterovs_momentum=True, power_t=0.5, random_state=1, shuffle=True,\n",
       "       solver='adam', tol=0.0001, validation_fraction=0.1, verbose=False,\n",
       "       warm_start=False)"
      ]
     },
     "execution_count": 3,
     "metadata": {},
     "output_type": "execute_result"
    }
   ],
   "source": [
    "mlp = MLPClassifier(random_state=1)\n",
    "mlp.fit(data, labels)"
   ]
  },
  {
   "cell_type": "code",
   "execution_count": 4,
   "metadata": {
    "collapsed": false
   },
   "outputs": [
    {
     "name": "stdout",
     "output_type": "stream",
     "text": [
      "Accuracy 0.97\n"
     ]
    }
   ],
   "source": [
    "pred = mlp.predict(data)\n",
    "from sklearn.metrics import accuracy_score\n",
    "print('Accuracy %.2f' % accuracy_score(labels, pred))"
   ]
  },
  {
   "cell_type": "code",
   "execution_count": 5,
   "metadata": {
    "collapsed": false
   },
   "outputs": [],
   "source": [
    "from sklearn.model_selection import train_test_split\n",
    "from sklearn.preprocessing import StandardScaler\n",
    "data_train, data_test, labels_train, labels_test = train_test_split(data, labels, test_size=0.5, random_state=1)\n",
    "scaler = StandardScaler()\n",
    "scaler.fit(data)\n",
    "data_train_std = scaler.transform(data_train)\n",
    "data_test_std = scaler.transform(data_test)\n",
    "data_train = data_train_std\n",
    "data_test = data_test_std"
   ]
  },
  {
   "cell_type": "code",
   "execution_count": 6,
   "metadata": {
    "collapsed": false
   },
   "outputs": [
    {
     "name": "stdout",
     "output_type": "stream",
     "text": [
      "Misclassified samples: 3\n",
      "Accuracy 0.96\n"
     ]
    },
    {
     "name": "stderr",
     "output_type": "stream",
     "text": [
      "/Users/chen/anaconda/lib/python3.5/site-packages/sklearn/neural_network/multilayer_perceptron.py:564: ConvergenceWarning: Stochastic Optimizer: Maximum iterations (200) reached and the optimization hasn't converged yet.\n",
      "  % self.max_iter, ConvergenceWarning)\n"
     ]
    }
   ],
   "source": [
    "mlp.fit(data_train, labels_train)\n",
    "pred = mlp.predict(data_test)\n",
    "print('Misclassified samples: %d' % (labels_test != pred).sum())\n",
    "print('Accuracy %.2f' % accuracy_score(labels_test, pred))"
   ]
  },
  {
   "cell_type": "code",
   "execution_count": 7,
   "metadata": {
    "collapsed": false
   },
   "outputs": [
    {
     "name": "stderr",
     "output_type": "stream",
     "text": [
      "/Users/chen/anaconda/lib/python3.5/site-packages/sklearn/neural_network/multilayer_perceptron.py:564: ConvergenceWarning: Stochastic Optimizer: Maximum iterations (200) reached and the optimization hasn't converged yet.\n",
      "  % self.max_iter, ConvergenceWarning)\n",
      "/Users/chen/anaconda/lib/python3.5/site-packages/sklearn/neural_network/multilayer_perceptron.py:564: ConvergenceWarning: Stochastic Optimizer: Maximum iterations (200) reached and the optimization hasn't converged yet.\n",
      "  % self.max_iter, ConvergenceWarning)\n"
     ]
    },
    {
     "data": {
      "image/png": "[encoded data removed]",
      "text/plain": [
       "<matplotlib.figure.Figure at 0x115352940>"
      ]
     },
     "metadata": {},
     "output_type": "display_data"
    }
   ],
   "source": [
    "data = iris.data[:, [2, 3]]\n",
    "labels = iris.target\n",
    "mlp = MLPClassifier(random_state=1)\n",
    "mlp.fit(data, labels)\n",
    "#--------------------------------------\n",
    "import numpy as np\n",
    "from matplotlib.colors import ListedColormap\n",
    "import matplotlib.pyplot as plt\n",
    "mlp = MLPClassifier(random_state=1)\n",
    "mlp.fit(data, labels)\n",
    "markers = ('s', '*', '^')\n",
    "colors = ('blue', 'green', 'red')\n",
    "cmap = ListedColormap(colors)\n",
    "x_min, x_max = data[:, 0].min()-1, data[:, 0].max() +1 \n",
    "y_min, y_max = data[:, 1].min()-1, data[:, 1].max() +1 \n",
    "resolution = 0.01\n",
    "x, y = np.meshgrid(np.arange(x_min, x_max, resolution), np.arange(y_min, y_max, resolution))\n",
    "Z = mlp.predict(np.array([x.ravel(), y.ravel()]).T)\n",
    "Z = Z.reshape(x.shape)\n",
    "plt.pcolormesh(x, y, Z, cmap=cmap)\n",
    "plt.xlim(x.min(), x.max())\n",
    "plt.ylim(y.min(), y.max())\n",
    "classes = ['setosa', 'versicolor', 'verginica']\n",
    "for index, cl in enumerate(np.unique(labels)):\n",
    "    plt.scatter(data[labels == cl, 0], data[labels == cl, 1], \n",
    "                c=cmap(index), marker=markers[index], \n",
    "                edgecolor=\"black\", alpha=1.0, s=50, label=classes[index])  \n",
    "plt.xlabel('petal length')\n",
    "plt.ylabel('petal width')\n",
    "plt.legend(loc='upper left')\n",
    "plt.show()"
   ]
  },
  {
   "cell_type": "code",
   "execution_count": 8,
   "metadata": {
    "collapsed": false
   },
   "outputs": [
    {
     "name": "stderr",
     "output_type": "stream",
     "text": [
      "/Users/chen/anaconda/lib/python3.5/site-packages/sklearn/neural_network/multilayer_perceptron.py:564: ConvergenceWarning: Stochastic Optimizer: Maximum iterations (200) reached and the optimization hasn't converged yet.\n",
      "  % self.max_iter, ConvergenceWarning)\n"
     ]
    },
    {
     "data": {
      "image/png": "[encoded data removed]",
      "text/plain": [
       "<matplotlib.figure.Figure at 0x118377630>"
      ]
     },
     "metadata": {},
     "output_type": "display_data"
    }
   ],
   "source": [
    "data = iris.data[:, [1, 3]]\n",
    "labels = iris.target\n",
    "mlp = MLPClassifier(random_state=1)\n",
    "mlp.fit(data, labels)\n",
    "#--------------------------------------\n",
    "import numpy as np\n",
    "from matplotlib.colors import ListedColormap\n",
    "import matplotlib.pyplot as plt\n",
    "mlp = MLPClassifier(random_state=1)\n",
    "mlp.fit(data, labels)\n",
    "markers = ('s', '*', '^')\n",
    "colors = ('blue', 'green', 'red')\n",
    "cmap = ListedColormap(colors)\n",
    "x_min, x_max = data[:, 0].min()-1, data[:, 0].max() +1 \n",
    "y_min, y_max = data[:, 1].min()-1, data[:, 1].max() +1 \n",
    "resolution = 0.01\n",
    "x, y = np.meshgrid(np.arange(x_min, x_max, resolution), np.arange(y_min, y_max, resolution))\n",
    "Z = mlp.predict(np.array([x.ravel(), y.ravel()]).T)\n",
    "Z = Z.reshape(x.shape)\n",
    "plt.pcolormesh(x, y, Z, cmap=cmap)\n",
    "plt.xlim(x.min(), x.max())\n",
    "plt.ylim(y.min(), y.max())\n",
    "classes = ['setosa', 'versicolor', 'verginica']\n",
    "for index, cl in enumerate(np.unique(labels)):\n",
    "    plt.scatter(data[labels == cl, 0], data[labels == cl, 1], \n",
    "                c=cmap(index), marker=markers[index], \n",
    "                edgecolor=\"black\", alpha=1.0, s=50, label=classes[index])  \n",
    "plt.xlabel('sepal width')\n",
    "plt.ylabel('petal width')\n",
    "plt.legend(loc='upper left')\n",
    "plt.show()"
   ]
  },
  {
   "cell_type": "code",
   "execution_count": 9,
   "metadata": {
    "collapsed": false
   },
   "outputs": [
    {
     "name": "stderr",
     "output_type": "stream",
     "text": [
      "/Users/chen/anaconda/lib/python3.5/site-packages/sklearn/neural_network/multilayer_perceptron.py:564: ConvergenceWarning: Stochastic Optimizer: Maximum iterations (200) reached and the optimization hasn't converged yet.\n",
      "  % self.max_iter, ConvergenceWarning)\n"
     ]
    },
    {
     "data": {
      "image/png": "[encoded data removed]",
      "text/plain": [
       "<matplotlib.figure.Figure at 0x1153485f8>"
      ]
     },
     "metadata": {},
     "output_type": "display_data"
    }
   ],
   "source": [
    "data = iris.data[:, [2, 3]]\n",
    "labels = iris.target\n",
    "scaler = StandardScaler()\n",
    "scaler.fit(data)\n",
    "data = scaler.transform(data)\n",
    "mlp = MLPClassifier(random_state=1)\n",
    "mlp.fit(data, labels)\n",
    "#--------------------------------------\n",
    "import numpy as np\n",
    "from matplotlib.colors import ListedColormap\n",
    "import matplotlib.pyplot as plt\n",
    "mlp = MLPClassifier(random_state=1)\n",
    "mlp.fit(data, labels)\n",
    "markers = ('s', '*', '^')\n",
    "colors = ('blue', 'green', 'red')\n",
    "cmap = ListedColormap(colors)\n",
    "x_min, x_max = data[:, 0].min()-1, data[:, 0].max() +1 \n",
    "y_min, y_max = data[:, 1].min()-1, data[:, 1].max() +1 \n",
    "resolution = 0.01\n",
    "x, y = np.meshgrid(np.arange(x_min, x_max, resolution), np.arange(y_min, y_max, resolution))\n",
    "Z = mlp.predict(np.array([x.ravel(), y.ravel()]).T)\n",
    "Z = Z.reshape(x.shape)\n",
    "plt.pcolormesh(x, y, Z, cmap=cmap)\n",
    "plt.xlim(x.min(), x.max())\n",
    "plt.ylim(y.min(), y.max())\n",
    "classes = ['setosa', 'versicolor', 'verginica']\n",
    "for index, cl in enumerate(np.unique(labels)):\n",
    "    plt.scatter(data[labels == cl, 0], data[labels == cl, 1], \n",
    "                c=cmap(index), marker=markers[index], \n",
    "                edgecolor=\"black\", alpha=1.0, s=50, label=classes[index])  \n",
    "plt.xlabel('petal length [Standardize]')\n",
    "plt.ylabel('petal width  [Standardize]')\n",
    "plt.legend(loc='upper left')\n",
    "plt.show()"
   ]
  },
  {
   "cell_type": "code",
   "execution_count": 10,
   "metadata": {
    "collapsed": false
   },
   "outputs": [
    {
     "name": "stderr",
     "output_type": "stream",
     "text": [
      "/Users/chen/anaconda/lib/python3.5/site-packages/sklearn/neural_network/multilayer_perceptron.py:564: ConvergenceWarning: Stochastic Optimizer: Maximum iterations (200) reached and the optimization hasn't converged yet.\n",
      "  % self.max_iter, ConvergenceWarning)\n"
     ]
    },
    {
     "data": {
      "image/png": "[encoded data removed]",
      "text/plain": [
       "<matplotlib.figure.Figure at 0x1153521d0>"
      ]
     },
     "metadata": {},
     "output_type": "display_data"
    }
   ],
   "source": [
    "data = iris.data[:, [1, 3]]\n",
    "labels = iris.target\n",
    "scaler = StandardScaler()\n",
    "scaler.fit(data)\n",
    "data = scaler.transform(data)\n",
    "mlp = MLPClassifier(random_state=1)\n",
    "mlp.fit(data, labels)\n",
    "#--------------------------------------\n",
    "import numpy as np\n",
    "from matplotlib.colors import ListedColormap\n",
    "import matplotlib.pyplot as plt\n",
    "mlp = MLPClassifier(random_state=1)\n",
    "mlp.fit(data, labels)\n",
    "markers = ('s', '*', '^')\n",
    "colors = ('blue', 'green', 'red')\n",
    "cmap = ListedColormap(colors)\n",
    "x_min, x_max = data[:, 0].min()-1, data[:, 0].max() +1 \n",
    "y_min, y_max = data[:, 1].min()-1, data[:, 1].max() +1 \n",
    "resolution = 0.01\n",
    "x, y = np.meshgrid(np.arange(x_min, x_max, resolution), np.arange(y_min, y_max, resolution))\n",
    "Z = mlp.predict(np.array([x.ravel(), y.ravel()]).T)\n",
    "Z = Z.reshape(x.shape)\n",
    "plt.pcolormesh(x, y, Z, cmap=cmap)\n",
    "plt.xlim(x.min(), x.max())\n",
    "plt.ylim(y.min(), y.max())\n",
    "classes = ['setosa', 'versicolor', 'verginica']\n",
    "for index, cl in enumerate(np.unique(labels)):\n",
    "    plt.scatter(data[labels == cl, 0], data[labels == cl, 1], \n",
    "                c=cmap(index), marker=markers[index], \n",
    "                edgecolor=\"black\", alpha=1.0, s=50, label=classes[index])  \n",
    "plt.xlabel('sepal width  [Standardize]')\n",
    "plt.ylabel('petal width  [Standardize]')\n",
    "plt.legend(loc='upper left')\n",
    "plt.show()"
   ]
  },
  {
   "cell_type": "code",
   "execution_count": 11,
   "metadata": {
    "collapsed": false
   },
   "outputs": [],
   "source": [
    "mlp = MLPClassifier(random_state=1, hidden_layer_sizes=(200, 100,))"
   ]
  },
  {
   "cell_type": "code",
   "execution_count": 12,
   "metadata": {
    "collapsed": true
   },
   "outputs": [],
   "source": [
    "mlp = MLPClassifier(random_state=1, hidden_layer_sizes=(200, 100,), activation='logistic')"
   ]
  },
  {
   "cell_type": "code",
   "execution_count": null,
   "metadata": {
    "collapsed": true
   },
   "outputs": [],
   "source": []
  }
 ],
 "metadata": {
  "kernelspec": {
   "display_name": "Python [conda root]",
   "language": "python",
   "name": "conda-root-py"
  },
  "language_info": {
   "codemirror_mode": {
    "name": "ipython",
    "version": 3
   },
   "file_extension": ".py",
   "mimetype": "text/x-python",
   "name": "python",
   "nbconvert_exporter": "python",
   "pygments_lexer": "ipython3",
   "version": "3.5.2"
  }
 },
 "nbformat": 4,
 "nbformat_minor": 1
}
