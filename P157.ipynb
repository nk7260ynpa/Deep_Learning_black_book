{
 "cells": [
  {
   "cell_type": "code",
   "execution_count": 1,
   "metadata": {
    "collapsed": false
   },
   "outputs": [
    {
     "name": "stderr",
     "output_type": "stream",
     "text": [
      "Using TensorFlow backend.\n"
     ]
    }
   ],
   "source": [
    "import numpy as np\n",
    "np.random.seed(0)\n",
    "from keras.datasets import cifar10\n",
    "from keras.models import Sequential\n",
    "from keras.layers import Dense, Activation, Convolution2D, MaxPooling2D, Flatten, Dropout\n",
    "from keras.utils import np_utils"
   ]
  },
  {
   "cell_type": "code",
   "execution_count": 2,
   "metadata": {
    "collapsed": true
   },
   "outputs": [],
   "source": [
    "input_size = 3072\n",
    "batch_size = 100\n",
    "hidden_neurons = 200\n",
    "classes = 10\n",
    "epochs = 10"
   ]
  },
  {
   "cell_type": "code",
   "execution_count": 4,
   "metadata": {
    "collapsed": false,
    "scrolled": true
   },
   "outputs": [
    {
     "name": "stdout",
     "output_type": "stream",
     "text": [
      "Train on 45000 samples, validate on 5000 samples\n",
      "Epoch 1/10\n",
      " - 8s - loss: 1.9748 - acc: 0.2788 - val_loss: 1.6631 - val_acc: 0.3812\n",
      "Epoch 2/10\n",
      " - 6s - loss: 1.5042 - acc: 0.4575 - val_loss: 1.3088 - val_acc: 0.5256\n",
      "Epoch 3/10\n",
      " - 6s - loss: 1.2929 - acc: 0.5382 - val_loss: 1.1058 - val_acc: 0.6158\n",
      "Epoch 4/10\n",
      " - 6s - loss: 1.1468 - acc: 0.5945 - val_loss: 1.0983 - val_acc: 0.6264\n",
      "Epoch 5/10\n",
      " - 6s - loss: 1.0414 - acc: 0.6319 - val_loss: 0.9664 - val_acc: 0.6494\n",
      "Epoch 6/10\n",
      " - 6s - loss: 0.9607 - acc: 0.6610 - val_loss: 0.8685 - val_acc: 0.6906\n",
      "Epoch 7/10\n",
      " - 6s - loss: 0.8929 - acc: 0.6865 - val_loss: 0.9281 - val_acc: 0.6798\n",
      "Epoch 8/10\n",
      " - 6s - loss: 0.8327 - acc: 0.7050 - val_loss: 0.8702 - val_acc: 0.7018\n",
      "Epoch 9/10\n",
      " - 6s - loss: 0.7757 - acc: 0.7251 - val_loss: 0.7562 - val_acc: 0.7400\n",
      "Epoch 10/10\n",
      " - 6s - loss: 0.7265 - acc: 0.7455 - val_loss: 0.7541 - val_acc: 0.7422\n",
      "Train accuracy: 0.7835\n",
      "Test accuracy: 0.7197\n"
     ]
    }
   ],
   "source": [
    "(X_train, y_train), (X_test, y_test) = cifar10.load_data()\n",
    "X_train = X_train.reshape(50000, 32, 32, 3)\n",
    "X_test = X_test.reshape(10000, 32, 32, 3)\n",
    "X_train = X_train.astype('float32')\n",
    "X_test = X_test.astype('float32')\n",
    "X_train /= 255\n",
    "X_test /= 255\n",
    "y_train = np_utils.to_categorical(y_train, classes)\n",
    "y_test = np_utils.to_categorical(y_test, classes)\n",
    "model = Sequential()\n",
    "model.add(Convolution2D(32, (3, 3), input_shape=(32, 32, 3)))\n",
    "model.add(Activation('relu'))\n",
    "model.add(Convolution2D(32, (3, 3)))\n",
    "model.add(Activation('relu'))\n",
    "model.add(MaxPooling2D(pool_size=(2, 2)))\n",
    "model.add(Dropout(0.25))\n",
    "\n",
    "model.add(Convolution2D(64, (3, 3), input_shape=(32, 32, 3)))\n",
    "model.add(Activation('relu'))\n",
    "model.add(Convolution2D(64, (3, 3)))\n",
    "model.add(Activation('relu'))\n",
    "model.add(Convolution2D(64, (3, 3)))\n",
    "model.add(Activation('relu'))\n",
    "model.add(MaxPooling2D(pool_size=(2, 2)))\n",
    "model.add(Dropout(0.25))\n",
    "\n",
    "model.add(Flatten())\n",
    "model.add(Dense(hidden_neurons))\n",
    "model.add(Activation('relu'))\n",
    "model.add(Dense(classes))\n",
    "model.add(Activation('softmax'))\n",
    "model.compile(loss='categorical_crossentropy', metrics=['accuracy'], optimizer='adadelta')\n",
    "model.fit(X_train, y_train, batch_size=batch_size, epochs=epochs, validation_split=0.1, verbose=2)\n",
    "score = model.evaluate(X_train, y_train, verbose=2)\n",
    "print('Train accuracy:', score[1])\n",
    "score = model.evaluate(X_test, y_test, verbose=2)\n",
    "print('Test accuracy:', score[1])"
   ]
  },
  {
   "cell_type": "code",
   "execution_count": null,
   "metadata": {
    "collapsed": true
   },
   "outputs": [],
   "source": []
  }
 ],
 "metadata": {
  "kernelspec": {
   "display_name": "Python 3",
   "language": "python",
   "name": "python3"
  },
  "language_info": {
   "codemirror_mode": {
    "name": "ipython",
    "version": 3
   },
   "file_extension": ".py",
   "mimetype": "text/x-python",
   "name": "python",
   "nbconvert_exporter": "python",
   "pygments_lexer": "ipython3",
   "version": "3.5.2"
  }
 },
 "nbformat": 4,
 "nbformat_minor": 2
}
