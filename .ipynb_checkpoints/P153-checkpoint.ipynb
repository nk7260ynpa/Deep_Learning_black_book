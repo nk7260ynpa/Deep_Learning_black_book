{
 "cells": [
  {
   "cell_type": "code",
   "execution_count": 1,
   "metadata": {
    "collapsed": false
   },
   "outputs": [
    {
     "name": "stderr",
     "output_type": "stream",
     "text": [
      "Using TensorFlow backend.\n"
     ]
    }
   ],
   "source": [
    "import numpy as np\n",
    "np.random.seed(0)\n",
    "from keras.datasets import mnist\n",
    "from keras.models import Sequential\n",
    "from keras.layers import Dense, Activation, Convolution2D, MaxPooling2D, Flatten, Dropout\n",
    "from keras.utils import np_utils"
   ]
  },
  {
   "cell_type": "code",
   "execution_count": 2,
   "metadata": {
    "collapsed": true
   },
   "outputs": [],
   "source": [
    "input_size = 784\n",
    "batch_size = 100\n",
    "hidden_neurons = 200\n",
    "classes = 10\n",
    "epochs = 8"
   ]
  },
  {
   "cell_type": "code",
   "execution_count": 3,
   "metadata": {
    "collapsed": false,
    "scrolled": true
   },
   "outputs": [
    {
     "name": "stdout",
     "output_type": "stream",
     "text": [
      "Train on 54000 samples, validate on 6000 samples\n",
      "Epoch 1/8\n",
      " - 13s - loss: 0.2541 - acc: 0.9237 - val_loss: 0.0844 - val_acc: 0.9775\n",
      "Epoch 2/8\n",
      " - 4s - loss: 0.0823 - acc: 0.9757 - val_loss: 0.0570 - val_acc: 0.9858\n",
      "Epoch 3/8\n",
      " - 4s - loss: 0.0575 - acc: 0.9824 - val_loss: 0.0494 - val_acc: 0.9872\n",
      "Epoch 4/8\n",
      " - 4s - loss: 0.0451 - acc: 0.9861 - val_loss: 0.0482 - val_acc: 0.9868\n",
      "Epoch 5/8\n",
      " - 4s - loss: 0.0368 - acc: 0.9881 - val_loss: 0.0412 - val_acc: 0.9875\n",
      "Epoch 6/8\n",
      " - 4s - loss: 0.0303 - acc: 0.9905 - val_loss: 0.0412 - val_acc: 0.9890\n",
      "Epoch 7/8\n",
      " - 4s - loss: 0.0253 - acc: 0.9921 - val_loss: 0.0375 - val_acc: 0.9897\n",
      "Epoch 8/8\n",
      " - 4s - loss: 0.0206 - acc: 0.9936 - val_loss: 0.0400 - val_acc: 0.9898\n",
      "Train accuracy: 0.996\n",
      "Test accuracy: 0.987\n"
     ]
    }
   ],
   "source": [
    "(X_train, y_train), (X_test, y_test) = mnist.load_data()\n",
    "X_train = X_train.reshape(60000, 28, 28, 1)\n",
    "X_test = X_test.reshape(10000, 28, 28, 1)\n",
    "X_train = X_train.astype('float32')\n",
    "X_test = X_test.astype('float32')\n",
    "X_train /= 255\n",
    "X_test /= 255\n",
    "y_train = np_utils.to_categorical(y_train, classes)\n",
    "y_test = np_utils.to_categorical(y_test, classes)\n",
    "model = Sequential()\n",
    "model.add(Convolution2D(32, (3, 3), input_shape=(28, 28, 1)))\n",
    "model.add(Activation('relu'))\n",
    "model.add(MaxPooling2D(pool_size=(2, 2)))\n",
    "model.add(Dropout(0.25))\n",
    "model.add(Flatten())\n",
    "model.add(Dense(hidden_neurons))\n",
    "model.add(Activation('relu'))\n",
    "model.add(Dense(classes))\n",
    "model.add(Activation('softmax'))\n",
    "model.compile(loss='categorical_crossentropy', metrics=['accuracy'], optimizer='adadelta')\n",
    "model.fit(X_train, y_train, batch_size=batch_size, epochs=epochs, validation_split=0.1, verbose=2)\n",
    "score = model.evaluate(X_train, y_train, verbose=2)\n",
    "print('Train accuracy:', score[1])\n",
    "score = model.evaluate(X_test, y_test, verbose=2)\n",
    "print('Test accuracy:', score[1])"
   ]
  },
  {
   "cell_type": "code",
   "execution_count": 4,
   "metadata": {
    "collapsed": false
   },
   "outputs": [
    {
     "data": {
      "text/plain": [
       "dtype('float32')"
      ]
     },
     "execution_count": 4,
     "metadata": {},
     "output_type": "execute_result"
    }
   ],
   "source": [
    "X_train.dtype"
   ]
  },
  {
   "cell_type": "code",
   "execution_count": null,
   "metadata": {
    "collapsed": true
   },
   "outputs": [],
   "source": []
  }
 ],
 "metadata": {
  "kernelspec": {
   "display_name": "Python 3",
   "language": "python",
   "name": "python3"
  },
  "language_info": {
   "codemirror_mode": {
    "name": "ipython",
    "version": 3
   },
   "file_extension": ".py",
   "mimetype": "text/x-python",
   "name": "python",
   "nbconvert_exporter": "python",
   "pygments_lexer": "ipython3",
   "version": "3.5.2"
  }
 },
 "nbformat": 4,
 "nbformat_minor": 2
}
