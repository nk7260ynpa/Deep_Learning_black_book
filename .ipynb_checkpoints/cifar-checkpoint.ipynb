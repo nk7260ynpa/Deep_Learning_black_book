{
 "cells": [
  {
   "cell_type": "code",
   "execution_count": 1,
   "metadata": {
    "collapsed": false
   },
   "outputs": [
    {
     "name": "stderr",
     "output_type": "stream",
     "text": [
      "Using TensorFlow backend.\n"
     ]
    }
   ],
   "source": [
    "import warnings\n",
    "warnings.simplefilter(action='ignore', category=FutureWarning)\n",
    "from keras.datasets import cifar10\n",
    "import numpy as np\n",
    "np.random.seed(10)"
   ]
  },
  {
   "cell_type": "code",
   "execution_count": 2,
   "metadata": {
    "collapsed": true
   },
   "outputs": [],
   "source": [
    "(X_img_train, y_label_train), (X_img_test, y_label_test) = cifar10.load_data()"
   ]
  },
  {
   "cell_type": "code",
   "execution_count": 3,
   "metadata": {
    "collapsed": false
   },
   "outputs": [
    {
     "name": "stdout",
     "output_type": "stream",
     "text": [
      "train data: images (50000, 32, 32, 3)  labels: (50000, 1)\n",
      "test data: images (10000, 32, 32, 3)  labels: (10000, 1)\n"
     ]
    }
   ],
   "source": [
    "print('train data:', 'images', X_img_train.shape,\n",
    "     ' labels:', y_label_train.shape)\n",
    "print('test data:', 'images', X_img_test.shape,\n",
    "     ' labels:', y_label_test.shape)"
   ]
  },
  {
   "cell_type": "code",
   "execution_count": 4,
   "metadata": {
    "collapsed": true
   },
   "outputs": [],
   "source": [
    "X_img_train_normalize = X_img_train.astype('float32') / 255.0\n",
    "X_img_test_normalize = X_img_test.astype('float32') / 255.0"
   ]
  },
  {
   "cell_type": "code",
   "execution_count": 5,
   "metadata": {
    "collapsed": true
   },
   "outputs": [],
   "source": [
    "from keras.utils import np_utils\n",
    "y_label_train_onehot = np_utils.to_categorical(y_label_train)\n",
    "y_label_test_onehot = np_utils.to_categorical(y_label_test)"
   ]
  },
  {
   "cell_type": "code",
   "execution_count": 6,
   "metadata": {
    "collapsed": true
   },
   "outputs": [],
   "source": [
    "from keras.models import Sequential\n",
    "from keras.layers import Dense, Dropout, Activation, Flatten\n",
    "from keras.layers import Conv2D, MaxPooling2D, ZeroPadding2D"
   ]
  },
  {
   "cell_type": "code",
   "execution_count": 7,
   "metadata": {
    "collapsed": true
   },
   "outputs": [],
   "source": [
    "model = Sequential()\n",
    "model.add(Conv2D(filters=256, kernel_size=(3,3),\n",
    "                input_shape=(32,32,3),\n",
    "                activation='relu',\n",
    "                padding='same'))\n",
    "model.add(Conv2D(filters=256, kernel_size=(3,3),\n",
    "                input_shape=(32,32,3),\n",
    "                activation='relu',\n",
    "                padding='same'))\n",
    "model.add(MaxPooling2D(pool_size=(2,2)))\n",
    "model.add(Conv2D(filters=512, kernel_size=(3,3),\n",
    "                activation='relu', padding='same'))\n",
    "model.add(Conv2D(filters=512, kernel_size=(3,3),\n",
    "                activation='relu', padding='same'))\n",
    "model.add(Dropout(rate=0.25))\n",
    "model.add(MaxPooling2D(pool_size=(2,2)))\n",
    "model.add(Conv2D(filters=1024, kernel_size=(3,3),\n",
    "                activation='relu', padding='same'))\n",
    "model.add(Conv2D(filters=1024, kernel_size=(3,3),\n",
    "                activation='relu', padding='same'))\n",
    "model.add(Dropout(rate=0.25))\n",
    "model.add(MaxPooling2D(pool_size=(2,2)))\n",
    "model.add(Flatten())\n",
    "model.add(Dropout(rate=0.25))\n",
    "model.add(Dense(4096,activation='relu'))\n",
    "model.add(Dense(10, activation='softmax'))"
   ]
  },
  {
   "cell_type": "code",
   "execution_count": 8,
   "metadata": {
    "collapsed": false
   },
   "outputs": [
    {
     "name": "stdout",
     "output_type": "stream",
     "text": [
      "_________________________________________________________________\n",
      "Layer (type)                 Output Shape              Param #   \n",
      "=================================================================\n",
      "conv2d_1 (Conv2D)            (None, 32, 32, 256)       7168      \n",
      "_________________________________________________________________\n",
      "conv2d_2 (Conv2D)            (None, 32, 32, 256)       590080    \n",
      "_________________________________________________________________\n",
      "max_pooling2d_1 (MaxPooling2 (None, 16, 16, 256)       0         \n",
      "_________________________________________________________________\n",
      "conv2d_3 (Conv2D)            (None, 16, 16, 512)       1180160   \n",
      "_________________________________________________________________\n",
      "conv2d_4 (Conv2D)            (None, 16, 16, 512)       2359808   \n",
      "_________________________________________________________________\n",
      "dropout_1 (Dropout)          (None, 16, 16, 512)       0         \n",
      "_________________________________________________________________\n",
      "max_pooling2d_2 (MaxPooling2 (None, 8, 8, 512)         0         \n",
      "_________________________________________________________________\n",
      "conv2d_5 (Conv2D)            (None, 8, 8, 1024)        4719616   \n",
      "_________________________________________________________________\n",
      "conv2d_6 (Conv2D)            (None, 8, 8, 1024)        9438208   \n",
      "_________________________________________________________________\n",
      "dropout_2 (Dropout)          (None, 8, 8, 1024)        0         \n",
      "_________________________________________________________________\n",
      "max_pooling2d_3 (MaxPooling2 (None, 4, 4, 1024)        0         \n",
      "_________________________________________________________________\n",
      "flatten_1 (Flatten)          (None, 16384)             0         \n",
      "_________________________________________________________________\n",
      "dropout_3 (Dropout)          (None, 16384)             0         \n",
      "_________________________________________________________________\n",
      "dense_1 (Dense)              (None, 4096)              67112960  \n",
      "_________________________________________________________________\n",
      "dense_2 (Dense)              (None, 10)                40970     \n",
      "=================================================================\n",
      "Total params: 85,448,970\n",
      "Trainable params: 85,448,970\n",
      "Non-trainable params: 0\n",
      "_________________________________________________________________\n",
      "None\n"
     ]
    }
   ],
   "source": [
    "print(model.summary())"
   ]
  },
  {
   "cell_type": "code",
   "execution_count": 9,
   "metadata": {
    "collapsed": true
   },
   "outputs": [],
   "source": [
    "model.compile(loss='categorical_crossentropy', \n",
    "             optimizer='Adadelta', metrics=['accuracy'])"
   ]
  },
  {
   "cell_type": "code",
   "execution_count": 10,
   "metadata": {
    "collapsed": false
   },
   "outputs": [
    {
     "name": "stdout",
     "output_type": "stream",
     "text": [
      "Train on 40000 samples, validate on 10000 samples\n",
      "Epoch 1/15\n",
      " - 90s - loss: 2.2930 - acc: 0.1457 - val_loss: 2.1953 - val_acc: 0.1607\n",
      "Epoch 2/15\n",
      " - 82s - loss: 1.8439 - acc: 0.3228 - val_loss: 1.6833 - val_acc: 0.3988\n",
      "Epoch 3/15\n",
      " - 81s - loss: 1.5116 - acc: 0.4489 - val_loss: 1.3173 - val_acc: 0.5283\n",
      "Epoch 4/15\n",
      " - 81s - loss: 1.2488 - acc: 0.5514 - val_loss: 1.1584 - val_acc: 0.5917\n",
      "Epoch 5/15\n",
      " - 81s - loss: 1.0122 - acc: 0.6391 - val_loss: 1.0222 - val_acc: 0.6491\n",
      "Epoch 6/15\n",
      " - 82s - loss: 0.8288 - acc: 0.7089 - val_loss: 0.9768 - val_acc: 0.6642\n",
      "Epoch 7/15\n",
      " - 82s - loss: 0.6813 - acc: 0.7592 - val_loss: 0.7627 - val_acc: 0.7374\n",
      "Epoch 8/15\n",
      " - 81s - loss: 0.5405 - acc: 0.8127 - val_loss: 0.6454 - val_acc: 0.7757\n",
      "Epoch 9/15\n",
      " - 81s - loss: 0.4276 - acc: 0.8510 - val_loss: 0.6561 - val_acc: 0.7755\n",
      "Epoch 10/15\n",
      " - 81s - loss: 0.3182 - acc: 0.8890 - val_loss: 0.6721 - val_acc: 0.7734\n",
      "Epoch 11/15\n",
      " - 81s - loss: 0.2329 - acc: 0.9206 - val_loss: 0.8912 - val_acc: 0.7464\n",
      "Epoch 12/15\n",
      " - 82s - loss: 0.1689 - acc: 0.9436 - val_loss: 0.7275 - val_acc: 0.7904\n",
      "Epoch 13/15\n",
      " - 84s - loss: 0.1341 - acc: 0.9556 - val_loss: 0.6800 - val_acc: 0.8090\n",
      "Epoch 14/15\n",
      " - 83s - loss: 0.1028 - acc: 0.9652 - val_loss: 0.9918 - val_acc: 0.7416\n",
      "Epoch 15/15\n",
      " - 84s - loss: 0.0947 - acc: 0.9691 - val_loss: 0.7364 - val_acc: 0.8056\n"
     ]
    }
   ],
   "source": [
    "train_history = model.fit(X_img_train_normalize, y_label_train_onehot,\n",
    "                         validation_split=0.2,\n",
    "                         epochs=15, batch_size=128, verbose=2)"
   ]
  },
  {
   "cell_type": "code",
   "execution_count": 11,
   "metadata": {
    "collapsed": false
   },
   "outputs": [
    {
     "data": {
      "text/plain": [
       "0.95382"
      ]
     },
     "execution_count": 11,
     "metadata": {},
     "output_type": "execute_result"
    }
   ],
   "source": [
    "scores = model.evaluate(X_img_train_normalize,\n",
    "                       y_label_train_onehot, verbose=0)\n",
    "scores[1]"
   ]
  },
  {
   "cell_type": "code",
   "execution_count": 12,
   "metadata": {
    "collapsed": false
   },
   "outputs": [
    {
     "data": {
      "text/plain": [
       "0.8036"
      ]
     },
     "execution_count": 12,
     "metadata": {},
     "output_type": "execute_result"
    }
   ],
   "source": [
    "scores = model.evaluate(X_img_test_normalize,\n",
    "                       y_label_test_onehot, verbose=0)\n",
    "scores[1]"
   ]
  },
  {
   "cell_type": "code",
   "execution_count": null,
   "metadata": {
    "collapsed": true
   },
   "outputs": [],
   "source": []
  }
 ],
 "metadata": {
  "kernelspec": {
   "display_name": "Python 3",
   "language": "python",
   "name": "python3"
  },
  "language_info": {
   "codemirror_mode": {
    "name": "ipython",
    "version": 3
   },
   "file_extension": ".py",
   "mimetype": "text/x-python",
   "name": "python",
   "nbconvert_exporter": "python",
   "pygments_lexer": "ipython3",
   "version": "3.5.2"
  }
 },
 "nbformat": 4,
 "nbformat_minor": 2
}
